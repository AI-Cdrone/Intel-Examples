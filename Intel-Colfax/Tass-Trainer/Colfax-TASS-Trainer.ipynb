{
 "cells": [
  {
   "cell_type": "markdown",
   "metadata": {},
   "source": [
    "# Colfax TASS Trainer"
   ]
  },
  {
   "cell_type": "markdown",
   "metadata": {},
   "source": [
    "![Colfax Tass Trainer](https://raw.githubusercontent.com/TechBubbleTechnologies/IoT-JumpWay-Intel-Examples/master/Intel-Colfax/images/tass-trainer.jpg) \n",
    "\n",
    "This notebook provides the source codes and walk through of the code used for the TASS Colfax trainer, a computer vision training program based on Tensorflow's Inception V3 example and training on Intel Nervana AI HPC Cluster (Colfax Cluster).\n",
    "\n",
    "This tutorial is part of the Computer Vision In The Modern World series by TechBubble Technologies founder and Intel Software Innovator, Adam Milton-Barker.\n",
    "\n",
    "FOR THE FULL TUTORIAL PLEASE VISIT THE FOLLOWING LINK:\n",
    "[Full Colfax Tass Trainer Tutorial](https://github.com/TechBubbleTechnologies/IoT-JumpWay-Intel-Examples/tree/master/Intel-Colfax/Tass-Trainer)\n",
    "\n",
    "PLEASE NOTE: YOU DO NOT NEED TO EXECUTE ANY BLOCKS UNTIL YOU GET TO \"Create training job\""
   ]
  },
  {
   "cell_type": "markdown",
   "metadata": {},
   "source": [
    "## Import the required modules"
   ]
  },
  {
   "cell_type": "markdown",
   "metadata": {},
   "source": [
    "Import the modules required for this tutorial to work:"
   ]
  },
  {
   "cell_type": "code",
   "execution_count": 2,
   "metadata": {},
   "outputs": [
    {
     "name": "stdout",
     "output_type": "stream",
     "text": [
      "Imported Required Modules\n"
     ]
    }
   ],
   "source": [
    "import json\n",
    "import InceptionFlow\n",
    "import cfxmagic\n",
    "print(\"Imported Required Modules\")"
   ]
  },
  {
   "cell_type": "markdown",
   "metadata": {},
   "source": [
    "## Some quick testing"
   ]
  },
  {
   "cell_type": "markdown",
   "metadata": {},
   "source": [
    "Do some quick testing to see what version of Tensorflow we are using and show that we are running on a Colfax Cluster Node:"
   ]
  },
  {
   "cell_type": "code",
   "execution_count": 3,
   "metadata": {},
   "outputs": [
    {
     "name": "stdout",
     "output_type": "stream",
     "text": [
      "Tensorflow V1.3.1\n",
      "Running on Colfax Cluster Node: c001-n041\n"
     ]
    }
   ],
   "source": [
    "# START TESTING\n",
    "\n",
    "import tensorflow as tf; \n",
    "print(\"Tensorflow V\"+str(tf.__version__))\n",
    "\n",
    "import socket\n",
    "print(\"Running on Colfax Cluster Node: {}\".format(socket.gethostname()))\n",
    "\n",
    "# END TESTING"
   ]
  },
  {
   "cell_type": "markdown",
   "metadata": {},
   "source": [
    "## Define the TassColfaxTrainer class"
   ]
  },
  {
   "cell_type": "markdown",
   "metadata": {},
   "source": [
    "Define the main class that will be used in this example."
   ]
  },
  {
   "cell_type": "code",
   "execution_count": 4,
   "metadata": {},
   "outputs": [],
   "source": [
    "class TassColfaxTrainer():\n",
    "    \n",
    "    def __init__(self):\n",
    "        \n",
    "        self.InceptionFlow = InceptionFlow.InceptionFlow()\n",
    "            \n",
    "        print(\"TassColfaxTrainer Initiated\")\n",
    "        \n",
    "    def InitiateTraining(self):\n",
    "        \n",
    "        print(\"TassColfaxTrainer Training Initiated\")\n",
    "        self.InceptionFlow.trainModel()"
   ]
  },
  {
   "cell_type": "markdown",
   "metadata": {},
   "source": [
    "## Initiate TassColfaxTrainer"
   ]
  },
  {
   "cell_type": "markdown",
   "metadata": {},
   "source": [
    "Initiate the TassColfaxTrainer class:"
   ]
  },
  {
   "cell_type": "code",
   "execution_count": 5,
   "metadata": {},
   "outputs": [
    {
     "name": "stdout",
     "output_type": "stream",
     "text": [
      "TassColfaxTrainer Initiated\n"
     ]
    }
   ],
   "source": [
    "TassColfaxTrainer = TassColfaxTrainer()"
   ]
  },
  {
   "cell_type": "markdown",
   "metadata": {},
   "source": [
    "## Create training job"
   ]
  },
  {
   "cell_type": "markdown",
   "metadata": {},
   "source": [
    "As the images have been provided for the training (Yoda & Darth Vader), you can begin training by creating a training job script using the following block. This will create a script that can be executed to create a job."
   ]
  },
  {
   "cell_type": "code",
   "execution_count": 3,
   "metadata": {},
   "outputs": [
    {
     "name": "stdout",
     "output_type": "stream",
     "text": [
      "Overwriting colfax-tass-trainer\n"
     ]
    }
   ],
   "source": [
    "%%writefile colfax-tass-trainer\n",
    "cd $PBS_O_WORKDIR\n",
    "echo \"* Hello world from compute server `hostname`!\"\n",
    "echo \"* The current directory is ${PWD}.\"\n",
    "echo \"* Compute server's CPU model and number of logical CPUs:\"\n",
    "lscpu | grep 'Model name\\\\|^CPU(s)'\n",
    "echo \"* Python available to us:\"\n",
    "which python\n",
    "python --version\n",
    "echo \"* This job trains TASS on the Colfax Cluster using images of Yoda & Darth Vader. May the force be with you ;)\"\n",
    "python runit.py\n",
    "sleep 10\n",
    "echo \"*Adios\"\n",
    "# Remember to have an empty line at the end of the file; otherwise the last command will not run\n"
   ]
  },
  {
   "cell_type": "markdown",
   "metadata": {},
   "source": [
    "## Check training job"
   ]
  },
  {
   "cell_type": "markdown",
   "metadata": {},
   "source": [
    "Now check to make sure that the script has been created. Execute the following block and you should see the file colfax-tass-trainer has been generated."
   ]
  },
  {
   "cell_type": "code",
   "execution_count": 36,
   "metadata": {},
   "outputs": [
    {
     "name": "stdout",
     "output_type": "stream",
     "text": [
      "colfax-tass-trainer                  \u001b[0m\u001b[01;34mdata\u001b[0m/           runit.py\r\n",
      "Colfax-TASS-Trainer-Inference.ipynb  \u001b[01;34mInceptionFlow\u001b[0m/  \u001b[01;34mtraining\u001b[0m/\r\n",
      "Colfax-TASS-Trainer.ipynb            \u001b[01;34mmodel\u001b[0m/          Welcome.ipynb\r\n"
     ]
    }
   ],
   "source": [
    "%ls"
   ]
  },
  {
   "cell_type": "markdown",
   "metadata": {},
   "source": [
    "## Submit the training job script"
   ]
  },
  {
   "cell_type": "markdown",
   "metadata": {},
   "source": [
    "Now you can submit your training job to schedule the training of TASS."
   ]
  },
  {
   "cell_type": "code",
   "execution_count": 7,
   "metadata": {},
   "outputs": [
    {
     "name": "stdout",
     "output_type": "stream",
     "text": [
      "28153.c001\r\n"
     ]
    }
   ],
   "source": [
    "!qsub colfax-tass-trainer"
   ]
  },
  {
   "cell_type": "markdown",
   "metadata": {},
   "source": [
    "## Check the status of the job"
   ]
  },
  {
   "cell_type": "markdown",
   "metadata": {},
   "source": [
    "Now you can monitor the status of the job by executing the following block. You may need to do this a number of times before the job completes."
   ]
  },
  {
   "cell_type": "code",
   "execution_count": 2,
   "metadata": {},
   "outputs": [
    {
     "name": "stdout",
     "output_type": "stream",
     "text": [
      "Job ID                    Name             User            Time Use S Queue\r\n",
      "------------------------- ---------------- --------------- -------- - -----\r\n",
      "28193.c001                 ...ub-singleuser u4399           00:25:30 R jupyterhub     \r\n"
     ]
    }
   ],
   "source": [
    "!qstat"
   ]
  },
  {
   "cell_type": "code",
   "execution_count": null,
   "metadata": {},
   "outputs": [],
   "source": []
  }
 ],
 "metadata": {
  "kernelspec": {
   "display_name": "Python 3 (Intel, 2018 update 1)",
   "language": "python",
   "name": "intel_distribution_of_python_3_2018u1"
  },
  "language_info": {
   "codemirror_mode": {
    "name": "ipython",
    "version": 3
   },
   "file_extension": ".py",
   "mimetype": "text/x-python",
   "name": "python",
   "nbconvert_exporter": "python",
   "pygments_lexer": "ipython3",
   "version": "3.6.3"
  }
 },
 "nbformat": 4,
 "nbformat_minor": 2
}
