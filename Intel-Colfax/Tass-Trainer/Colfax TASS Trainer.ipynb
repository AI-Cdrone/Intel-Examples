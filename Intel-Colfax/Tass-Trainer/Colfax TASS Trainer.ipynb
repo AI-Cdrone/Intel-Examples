{
 "cells": [
  {
   "cell_type": "markdown",
   "metadata": {},
   "source": [
    "# Colfax TASS Trainer"
   ]
  },
  {
   "cell_type": "markdown",
   "metadata": {},
   "source": [
    "![Colfax Tass Trainer](https://raw.githubusercontent.com/TechBubbleTechnologies/IoT-JumpWay-Intel-Examples/master/Intel-Colfax/images/tass-trainer.jpg) \n",
    "\n",
    "This notebook provides the source codes and walk through of the code used for the TASS Colfax trainer, a computer vision training program based on Tensorflow's Inception V3 example and training on Intel Nervana AI HPC Cluster (Colfax Cluster).\n",
    "\n",
    "This tutorial is part of the Computer Vision In The Modern World series by TechBubble Technologies founder and Intel Software Innovator, Adam Milton-Barker.\n",
    "\n",
    "FOR THE FULL TUTORIAL PLEASE VISIT THE FOLLOWING LINK:\n",
    "[Full Colfax Tass Trainer Tutorial](https://github.com/TechBubbleTechnologies/IoT-JumpWay-Intel-Examples/tree/master/Intel-Colfax/Tass-Trainer)"
   ]
  },
  {
   "cell_type": "markdown",
   "metadata": {},
   "source": [
    "## Import the required modules"
   ]
  },
  {
   "cell_type": "markdown",
   "metadata": {},
   "source": [
    "Import the modules required for this tutorial to work:"
   ]
  },
  {
   "cell_type": "code",
   "execution_count": 16,
   "metadata": {},
   "outputs": [
    {
     "name": "stdout",
     "output_type": "stream",
     "text": [
      "Imported Required Modules\n"
     ]
    }
   ],
   "source": [
    "import json\n",
    "import InceptionFlow\n",
    "print(\"Imported Required Modules\")"
   ]
  },
  {
   "cell_type": "markdown",
   "metadata": {},
   "source": [
    "## Some quick testing"
   ]
  },
  {
   "cell_type": "markdown",
   "metadata": {},
   "source": [
    "Do some quick testing to see what version of Tensorflow we are using and show that we are running on a Colfax Cluster Node:"
   ]
  },
  {
   "cell_type": "code",
   "execution_count": 9,
   "metadata": {},
   "outputs": [
    {
     "name": "stdout",
     "output_type": "stream",
     "text": [
      "Tensorflow V1.3.1\n",
      "Running on Colfax Cluster Node: c001-n041\n"
     ]
    }
   ],
   "source": [
    "# START TESTING\n",
    "\n",
    "import tensorflow as tf; \n",
    "print(\"Tensorflow V\"+str(tf.__version__))\n",
    "\n",
    "import socket\n",
    "print(\"Running on Colfax Cluster Node: {}\".format(socket.gethostname()))\n",
    "\n",
    "# END TESTING"
   ]
  },
  {
   "cell_type": "markdown",
   "metadata": {},
   "source": [
    "## Define the TassColfaxTrainer class"
   ]
  },
  {
   "cell_type": "markdown",
   "metadata": {},
   "source": [
    "Define the main class that will be used in this example."
   ]
  },
  {
   "cell_type": "code",
   "execution_count": 12,
   "metadata": {},
   "outputs": [],
   "source": [
    "class TassColfaxTrainer():\n",
    "    \n",
    "    def __init__(self):\n",
    "        \n",
    "        self.InceptionFlow = InceptionFlow.InceptionFlow()\n",
    "            \n",
    "        print(\"TassColfaxTrainer Initiated\")\n",
    "        \n",
    "    def InitiateTraining(self):\n",
    "        \n",
    "        print(\"TassColfaxTrainer Training Initiated\")\n",
    "        self.InceptionFlow.trainModel()"
   ]
  },
  {
   "cell_type": "markdown",
   "metadata": {},
   "source": [
    "## Initiate TassColfaxTrainer"
   ]
  },
  {
   "cell_type": "markdown",
   "metadata": {},
   "source": [
    "Start TassColfaxTrainer:"
   ]
  },
  {
   "cell_type": "code",
   "execution_count": 13,
   "metadata": {},
   "outputs": [
    {
     "name": "stdout",
     "output_type": "stream",
     "text": [
      "TassColfaxTrainer Initiated\n"
     ]
    }
   ],
   "source": [
    "TassColfaxTrainer = TassColfaxTrainer()"
   ]
  },
  {
   "cell_type": "markdown",
   "metadata": {},
   "source": [
    "## Start TassColfaxTrainer training"
   ]
  },
  {
   "cell_type": "markdown",
   "metadata": {},
   "source": [
    "As long as you have added your training data, you can begin training:\n",
    "\n",
    "DO NOT RUN THIS BLOCK, YOU NEED TO SUBMIT THE JOB WHICH WILL EXECUTE THIS BLOCK."
   ]
  },
  {
   "cell_type": "code",
   "execution_count": 6,
   "metadata": {},
   "outputs": [
    {
     "name": "stdout",
     "output_type": "stream",
     "text": [
      "Trainer Initiated\n",
      "Looking for images in '1'\n",
      "No files found\n",
      "Looking for images in '2'\n",
      "Only one valid folder of images found at training/human - multiple classes are needed for classification.\n"
     ]
    }
   ],
   "source": [
    "TassColfaxTrainer.InitiateTraining()    "
   ]
  },
  {
   "cell_type": "markdown",
   "metadata": {},
   "source": [
    "## Submit training job"
   ]
  },
  {
   "cell_type": "markdown",
   "metadata": {},
   "source": [
    "Now you are ready to submit your training job to train the model with Yoda and Darth Vader images."
   ]
  },
  {
   "cell_type": "code",
   "execution_count": null,
   "metadata": {},
   "outputs": [],
   "source": []
  }
 ],
 "metadata": {
  "kernelspec": {
   "display_name": "Python 3 (Intel, 2018 update 1)",
   "language": "python",
   "name": "intel_distribution_of_python_3_2018u1"
  },
  "language_info": {
   "codemirror_mode": {
    "name": "ipython",
    "version": 3
   },
   "file_extension": ".py",
   "mimetype": "text/x-python",
   "name": "python",
   "nbconvert_exporter": "python",
   "pygments_lexer": "ipython3",
   "version": "3.6.3"
  }
 },
 "nbformat": 4,
 "nbformat_minor": 2
}
