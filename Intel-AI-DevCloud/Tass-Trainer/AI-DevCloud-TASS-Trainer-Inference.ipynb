{
 "cells": [
  {
   "cell_type": "markdown",
   "metadata": {},
   "source": [
    "# Colfax TASS Trainer Inference"
   ]
  },
  {
   "cell_type": "markdown",
   "metadata": {},
   "source": [
    "![Colfax Tass Trainer](https://raw.githubusercontent.com/iotJumpway/IoT-JumpWay-Intel-Examples/master/Intel-AI-DevCloud/images/tass-trainer.jpg) \n",
    "\n",
    "This notebook provides the source codes and walk through of the code used for testing the TASS Colfax trainer, a computer vision training program based on Tensorflow's Inception V3 example and training on Intel Nervana AI HPC Cluster (Colfax Cluster).\n",
    "\n",
    "This tutorial is part of the Computer Vision In The Modern World series by Bigfinite IoT Network Engineer & Intel Software Innovator, Adam Milton-Barker.\n",
    "\n",
    "FOR THE FULL TUTORIAL PLEASE VISIT THE FOLLOWING LINK:\n",
    "[Full Colfax Tass Trainer Tutorial](https://github.com/iotJumpway/IoT-JumpWay-Intel-Examples/tree/master/Intel-AI-DevCloud/Tass-Trainer)"
   ]
  },
  {
   "cell_type": "markdown",
   "metadata": {},
   "source": [
    "## Import the required modules"
   ]
  },
  {
   "cell_type": "markdown",
   "metadata": {},
   "source": [
    "Import the modules required for this tutorial to work:"
   ]
  },
  {
   "cell_type": "code",
   "execution_count": 1,
   "metadata": {},
   "outputs": [
    {
     "name": "stdout",
     "output_type": "stream",
     "text": [
      "Imported Required Modules\n"
     ]
    }
   ],
   "source": [
    "import json\n",
    "import InceptionFlow\n",
    "import cfxmagic\n",
    "print(\"Imported Required Modules\")"
   ]
  },
  {
   "cell_type": "markdown",
   "metadata": {},
   "source": [
    "## Some quick testing"
   ]
  },
  {
   "cell_type": "markdown",
   "metadata": {},
   "source": [
    "Do some quick testing to see what version of Tensorflow we are using and show that we are running on a Colfax Cluster Node:"
   ]
  },
  {
   "cell_type": "code",
   "execution_count": 2,
   "metadata": {},
   "outputs": [
    {
     "name": "stdout",
     "output_type": "stream",
     "text": [
      "Tensorflow V1.3.1\n",
      "Running on Colfax Cluster Node: c001-n041\n"
     ]
    }
   ],
   "source": [
    "# START TESTING\n",
    "\n",
    "import tensorflow as tf; \n",
    "print(\"Tensorflow V\"+str(tf.__version__))\n",
    "\n",
    "import socket\n",
    "print(\"Running on Colfax Cluster Node: {}\".format(socket.gethostname()))\n",
    "\n",
    "# END TESTING"
   ]
  },
  {
   "cell_type": "markdown",
   "metadata": {},
   "source": [
    "## Define the TassColfaxTrainerInference class"
   ]
  },
  {
   "cell_type": "markdown",
   "metadata": {},
   "source": [
    "Define the main class that will be used in this example."
   ]
  },
  {
   "cell_type": "code",
   "execution_count": 3,
   "metadata": {},
   "outputs": [],
   "source": [
    "class TassColfaxTrainerInference():\n",
    "    \n",
    "    def __init__(self):\n",
    "        \n",
    "        self.InceptionFlow = InceptionFlow.InceptionFlow()\n",
    "        print(\"Checking Inception V3 Model\")\n",
    "        \n",
    "        self.InceptionFlow.checkModelDownload()\n",
    "        print(\"Creating Inception V3 Graph\")\n",
    "        \n",
    "        self.InceptionFlow.createInceptionGraph()\n",
    "        print(\"TassColfaxTrainerInference Initiated\")\n",
    "        \n",
    "    def InitiateTest(self):\n",
    "        \n",
    "        print(\"TassColfaxTrainerInference Testing Initiated\")\n",
    "        self.InceptionFlow.testModel()"
   ]
  },
  {
   "cell_type": "markdown",
   "metadata": {},
   "source": [
    "## Initiate TassColfaxTrainerInference"
   ]
  },
  {
   "cell_type": "markdown",
   "metadata": {},
   "source": [
    "Initiate the TassColfaxTrainerInference class:"
   ]
  },
  {
   "cell_type": "code",
   "execution_count": 4,
   "metadata": {},
   "outputs": [
    {
     "name": "stdout",
     "output_type": "stream",
     "text": [
      "Checking Inception V3 Model\n",
      "Creating Inception V3 Graph\n",
      "TassColfaxTrainerInference Initiated\n"
     ]
    }
   ],
   "source": [
    "TassColfaxTrainerInference = TassColfaxTrainerInference()"
   ]
  },
  {
   "cell_type": "markdown",
   "metadata": {},
   "source": [
    "## Initiate TassColfaxTrainerInference testing"
   ]
  },
  {
   "cell_type": "markdown",
   "metadata": {},
   "source": [
    "Initiate the testing process:"
   ]
  },
  {
   "cell_type": "code",
   "execution_count": 5,
   "metadata": {},
   "outputs": [
    {
     "name": "stdout",
     "output_type": "stream",
     "text": [
      "TassColfaxTrainerInference Testing Initiated\n",
      "TESTING FACIAL REC\n",
      "\n",
      "FILE: Darth1.jpg\n",
      "b'1\\n' (score = 0.99834)\n",
      "b'2\\n' (score = 0.00164)\n",
      "\n",
      "\n",
      "PROVIDED IMAGE: Darth1.jpg\n",
      "OBJECT DETECTED: b'1\\n'\n",
      "CONFIDENCE: 0.998343\n",
      "...\n",
      "\n",
      "FILE: Darth2.jpg\n",
      "b'1\\n' (score = 0.99692)\n",
      "b'2\\n' (score = 0.00311)\n",
      "\n",
      "\n",
      "PROVIDED IMAGE: Darth2.jpg\n",
      "OBJECT DETECTED: b'1\\n'\n",
      "CONFIDENCE: 0.996923\n",
      "...\n",
      "\n",
      "FILE: Yoda2.jpg\n",
      "b'2\\n' (score = 0.99710)\n",
      "b'1\\n' (score = 0.00293)\n",
      "\n",
      "\n",
      "PROVIDED IMAGE: Yoda2.jpg\n",
      "OBJECT DETECTED: b'2\\n'\n",
      "CONFIDENCE: 0.997104\n",
      "...\n",
      "\n",
      "FILE: Yoda1.jpg\n",
      "b'2\\n' (score = 0.99535)\n",
      "b'1\\n' (score = 0.00465)\n",
      "\n",
      "COMPLETED TESTING FACIAL RECOGNITION\n",
      "\n"
     ]
    }
   ],
   "source": [
    "TassColfaxTrainerInference.InitiateTest()"
   ]
  },
  {
   "cell_type": "markdown",
   "metadata": {},
   "source": [
    "## Create testing job"
   ]
  },
  {
   "cell_type": "markdown",
   "metadata": {},
   "source": [
    "You can begin testing by creating a testing job script using the following block. This will create a script that can be executed to create a job."
   ]
  },
  {
   "cell_type": "code",
   "execution_count": 6,
   "metadata": {},
   "outputs": [
    {
     "name": "stdout",
     "output_type": "stream",
     "text": [
      "Overwriting colfax-tass-trainer-inference\n"
     ]
    }
   ],
   "source": [
    "%%writefile colfax-tass-trainer-inference\n",
    "cd $PBS_O_WORKDIR\n",
    "echo \"* Hello world from compute server `hostname`!\"\n",
    "echo \"* The current directory is ${PWD}.\"\n",
    "echo \"* Compute server's CPU model and number of logical CPUs:\"\n",
    "lscpu | grep 'Model name\\\\|^CPU(s)'\n",
    "echo \"* Python available to us:\"\n",
    "which python\n",
    "python --version\n",
    "echo \"* This job tests TASS on the Colfax Cluster to see if it knows who Darth Vader and Yoda are after training. May the force be with you ;)\"\n",
    "python runittest.py\n",
    "sleep 10\n",
    "echo \"*Adios\"\n",
    "# Remember to have an empty line at the end of the file; otherwise the last command will not run\n"
   ]
  },
  {
   "cell_type": "markdown",
   "metadata": {},
   "source": [
    "## Check testing job"
   ]
  },
  {
   "cell_type": "markdown",
   "metadata": {},
   "source": [
    "Now you can create your testing job. This examples shows a different way to part 1 of this tutorial. In this example we pack the contents of this notebook into a Python script directly from the notebook."
   ]
  },
  {
   "cell_type": "code",
   "execution_count": 7,
   "metadata": {},
   "outputs": [
    {
     "name": "stdout",
     "output_type": "stream",
     "text": [
      "colfax-tass-trainer                  confs.json      runit.py\r\n",
      "colfax-tass-trainer-inference        \u001b[0m\u001b[01;34mdata\u001b[0m/           runittest.py\r\n",
      "Colfax-TASS-Trainer-Inference.ipynb  \u001b[01;34mInceptionFlow\u001b[0m/  \u001b[01;34mtraining\u001b[0m/\r\n",
      "Colfax-TASS-Trainer.ipynb            \u001b[01;34mmodel\u001b[0m/          Welcome.ipynb\r\n"
     ]
    }
   ],
   "source": [
    "%ls"
   ]
  },
  {
   "cell_type": "markdown",
   "metadata": {},
   "source": [
    "## Submit the training job script"
   ]
  },
  {
   "cell_type": "markdown",
   "metadata": {},
   "source": [
    "Now you can submit your training job to schedule the training of TASS."
   ]
  },
  {
   "cell_type": "code",
   "execution_count": 8,
   "metadata": {},
   "outputs": [
    {
     "name": "stdout",
     "output_type": "stream",
     "text": [
      "28199.c001\r\n"
     ]
    }
   ],
   "source": [
    "!qsub colfax-tass-trainer-inference"
   ]
  },
  {
   "cell_type": "markdown",
   "metadata": {},
   "source": [
    "## Check the status of the job"
   ]
  },
  {
   "cell_type": "markdown",
   "metadata": {},
   "source": [
    "Now you can monitor the status of the job by executing the following block. You may need to do this a number of times before the job completes."
   ]
  },
  {
   "cell_type": "code",
   "execution_count": 22,
   "metadata": {},
   "outputs": [
    {
     "name": "stdout",
     "output_type": "stream",
     "text": [
      "Job ID                    Name             User            Time Use S Queue\r\n",
      "------------------------- ---------------- --------------- -------- - -----\r\n",
      "28198.c001                 ...ub-singleuser u4399           00:00:34 R jupyterhub     \r\n",
      "28199.c001                 ...ner-inference u4399                  0 R batch          \r\n"
     ]
    }
   ],
   "source": [
    "!qstat"
   ]
  },
  {
   "cell_type": "code",
   "execution_count": null,
   "metadata": {},
   "outputs": [],
   "source": []
  }
 ],
 "metadata": {
  "kernelspec": {
   "display_name": "Python 3 (Intel, 2018 update 1)",
   "language": "python",
   "name": "intel_distribution_of_python_3_2018u1"
  },
  "language_info": {
   "codemirror_mode": {
    "name": "ipython",
    "version": 3
   },
   "file_extension": ".py",
   "mimetype": "text/x-python",
   "name": "python",
   "nbconvert_exporter": "python",
   "pygments_lexer": "ipython3",
   "version": "3.6.3"
  }
 },
 "nbformat": 4,
 "nbformat_minor": 2
}
